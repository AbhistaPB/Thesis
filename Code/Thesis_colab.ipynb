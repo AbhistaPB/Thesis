{
  "nbformat": 4,
  "nbformat_minor": 0,
  "metadata": {
    "colab": {
      "provenance": []
    },
    "kernelspec": {
      "name": "python3",
      "display_name": "Python 3"
    },
    "language_info": {
      "name": "python"
    },
    "accelerator": "GPU",
    "gpuClass": "standard"
  },
  "cells": [
    {
      "cell_type": "code",
      "execution_count": 1,
      "metadata": {
        "colab": {
          "base_uri": "https://localhost:8080/"
        },
        "id": "9Uu6n_ZS22G4",
        "outputId": "73347fe6-9308-459e-c60e-ce1b53bc9598"
      },
      "outputs": [
        {
          "output_type": "stream",
          "name": "stdout",
          "text": [
            "Mounted at /content/drive\n"
          ]
        }
      ],
      "source": [
        "from google.colab import drive\n",
        "drive.mount('/content/drive')"
      ]
    },
    {
      "cell_type": "code",
      "source": [
        "!ls drive/'My Drive'"
      ],
      "metadata": {
        "colab": {
          "base_uri": "https://localhost:8080/"
        },
        "id": "GTa7fj4a3PBZ",
        "outputId": "64911339-a384-4ef8-bd90-7c439e4c7a0d"
      },
      "execution_count": 2,
      "outputs": [
        {
          "output_type": "stream",
          "name": "stdout",
          "text": [
            "'09-04-15  SR MPL KCET GT -1 ST YEAR SYLLABUS CHEMISTRY.gdoc'\n",
            " 1PE15EC001_15EC33_1M05_A2163376.pdf\n",
            " 1PE15EC001_15EC33_Marks.pdf\n",
            " 1PE15EC001.pdf\n",
            " 2811fb90a1302h.gdoc\n",
            " 86084f97446e613ca9beb442ffa4d229.txt.gdoc\n",
            "'951f4b67e5beda69dcafd94cb18d0d7e (1).txt.gdoc'\n",
            "'951f4b67e5beda69dcafd94cb18d0d7e (2).txt.gdoc'\n",
            " 951f4b67e5beda69dcafd94cb18d0d7e.txt.gdoc\n",
            "'Abhista!!😁 '\n",
            "'AbhistaP (1).B_Resume.pdf'\n",
            "'AbhistaP (2).B_Resume.pdf'\n",
            "'AbhistaP (3).B_Resume.pdf'\n",
            "'AbhistaP (4).B_Resume.pdf'\n",
            "'AbhistaP (5).B_Resume.pdf'\n",
            " AbhistaPartal_CV.pdf\n",
            "'Abhista P.B Passport - full.pdf'\n",
            "'Abhista P B.pdf'\n",
            " AbhistaP.B_Resume.pdf\n",
            "'Abhista!!😁 sent you an audio file!'\n",
            "'Abhista!!😁 sent you an audio file! (1)'\n",
            "'Abhista!!😁 sent you an audio file! (2)'\n",
            "'Abhista!!😁 sent you an audio file! (3)'\n",
            "'Abhista!!😁 sent you an audio file! (4)'\n",
            "'Abhista!!😁 sent you an audio file! (5)'\n",
            "\"Abhista's Resume.pdf\"\n",
            " ABS.gslides\n",
            "'Abstract prj review 1 (10).gdoc'\n",
            "'Abstract prj review 1 (11).gdoc'\n",
            "'Abstract prj review 1 (12).gdoc'\n",
            "'Abstract prj review 1 (13).gdoc'\n",
            "'Abstract prj review 1 (1).gdoc'\n",
            "'Abstract prj review 1 (1).odt'\n",
            "'Abstract prj review 1 (2).gdoc'\n",
            "'Abstract prj review 1 (3).gdoc'\n",
            "'Abstract prj review 1 (4).gdoc'\n",
            "'Abstract prj review 1 (5).gdoc'\n",
            "'Abstract prj review 1 (6).gdoc'\n",
            "'Abstract prj review 1 (7).gdoc'\n",
            "'Abstract prj review 1 (8).gdoc'\n",
            "'Abstract prj review 1 (9).gdoc'\n",
            "'Abstract prj review 1.gdoc'\n",
            "'Abstract prj review 1.odt'\n",
            "'AC Aduser.apk'\n",
            "'all digital all (except msjk , serial and parallel adder).rtf.gdoc'\n",
            "'ANNassignment (1).odt.gdoc'\n",
            " ANNassignment.gdoc\n",
            " ANNassignment.odt.gdoc\n",
            "'backpropagation and gradient decent.aac'\n",
            " Books\n",
            "'CANoe Automation.gslides'\n",
            " Class2Movie_Dict.pkl\n",
            "'Cloud computing - Wikipedia, the free encyclopedia'\n",
            "'Cloud computing - Wikipedia, the free encyclopedia.gdoc'\n",
            " CoinbaseWalletBackups\n",
            "'Colab Notebooks'\n",
            " CountVector.pkl\n",
            " cppass1.txt.gdoc\n",
            " CRYST_STRUCTURE.pdf\n",
            "'Declaration form_hvc.docx.gdoc'\n",
            "'Deep Learning'\n",
            "'DUBAI EXPENSES.gdoc'\n",
            "'DUBAI EXPENSES.pdf'\n",
            " feedback.xlsx\n",
            " feedback.xlsx.gsheet\n",
            "'Google Colab'\n",
            "'Guide DTU Fusion-June 2022 - UK.pdf'\n",
            " IMG_20180111_135218.jpg\n",
            " IMG_20180111_135230.jpg\n",
            " IMG_20180111_135255.jpg\n",
            " IMG_20190426_154452.jpg\n",
            " IMG_20190426_154458.jpg\n",
            " IMG_20190426_154522.jpg\n",
            " IMG_20190426_154533.jpg\n",
            " IMG_20190426_154536.jpg\n",
            " IMG_20190426_154540.jpg\n",
            " IMG_20190426_154648.jpg\n",
            " IMG_20190426_154653.jpg\n",
            " IMG_20190426_155044_Bokeh.jpg\n",
            " IMG_20190426_155055_Bokeh.jpg\n",
            " IMG_20190426_155102.jpg\n",
            " IMG_20190426_155103.jpg\n",
            " IMG_20190426_155104.jpg\n",
            " IMG_20190426_155134.jpg\n",
            " IMG_20190426_155135.jpg\n",
            " IMG_20190426_155137.jpg\n",
            " IMG_20190426_155140.jpg\n",
            " IMG_20190426_155142.jpg\n",
            " IMG_20190516_134914.jpg\n",
            " IMG_20190516_134916.jpg\n",
            " IMG_20190516_134918.jpg\n",
            " IMG_20190516_140643.jpg\n",
            " IMG_20190516_140711.jpg\n",
            " IMG_20190516_141725.jpg\n",
            " IMG_20190516_141726.jpg\n",
            " IMG_20190516_141728.jpg\n",
            " IMG_20190516_141730.jpg\n",
            " IMG_20190516_141732.jpg\n",
            " IMG_20190516_141733.jpg\n",
            " IMG_20191225_225549__02.jpg\n",
            " IMG_20191226_084708.jpg\n",
            " IMG_20191226_124844.jpg\n",
            " IMG_20191226_124914.jpg\n",
            " IMG_20191226_124915.jpg\n",
            " IMG_20191226_125017.jpg\n",
            " IMG_20191226_133049.jpg\n",
            " IMG_20191226_134054.jpg\n",
            " IMG_20191226_134059.jpg\n",
            " IMG_20191226_134110.jpg\n",
            " IMG_20191226_143339.jpg\n",
            " IMG_20191226_143447.jpg\n",
            " IMG_20191226_143449.jpg\n",
            " IMG_20191226_143511.jpg\n",
            " IMG_20191226_150226.jpg\n",
            " IMG_20191226_150507.jpg\n",
            " IMG_20191226_150615_Bokeh.jpg\n",
            " IMG_20191226_150805_Bokeh.jpg\n",
            " IMG_20191226_150815_Bokeh.jpg\n",
            " IMG_20191226_151026_Bokeh.jpg\n",
            " IMG_20191226_151038_Bokeh.jpg\n",
            " IMG_20191226_151045_Bokeh.jpg\n",
            " IMG_20191226_151051_Bokeh.jpg\n",
            " IMG_20191226_151848.jpg\n",
            " IMG_20191226_152110_Bokeh.jpg\n",
            " IMG_20191226_152223.jpg\n",
            " IMG_20191226_174030.jpg\n",
            " IMG_20191226_174600.jpg\n",
            " IMG_20191226_174642.jpg\n",
            " IMG_20191226_174949.jpg\n",
            " IMG_20191226_212708.jpg\n",
            " IMG_20191226_212710.jpg\n",
            " IMG_20191226_212714.jpg\n",
            " IMG_20191227_084426.jpg\n",
            " IMG_20191227_084453.jpg\n",
            " IMG_20191227_085211.jpg\n",
            " IMG_20191227_093849.jpg\n",
            " IMG_20191227_094314.jpg\n",
            " IMG_20191227_100734.jpg\n",
            " IMG_20191227_100735.jpg\n",
            " IMG_20191227_103736.jpg\n",
            " IMG_20191227_104011.jpg\n",
            " IMG_20191227_104027.jpg\n",
            " IMG_20191227_114626.jpg\n",
            " IMG_20191227_133653.jpg\n",
            " IMG_20191227_133842.jpg\n",
            " IMG_20191227_133919.jpg\n",
            " IMG_20191227_134213_Bokeh.jpg\n",
            " IMG_20191227_134454.jpg\n",
            " IMG_20191227_134507.jpg\n",
            " IMG_20191227_135456.jpg\n",
            " IMG_20191227_135519.jpg\n",
            " IMG_20191227_135523.jpg\n",
            " IMG_20191227_184132.jpg\n",
            " IMG_20191227_184138.jpg\n",
            " IMG_20191227_184211.jpg\n",
            "'Innovation Report.gdoc'\n",
            " intro_to_nanoscience_corrected.pdf\n",
            "'jetstar boarding pass X9IZSY_2016_07_20.pdf'\n",
            "'jetstar return boarding pass X9IZSY_2016_07_27.pdf'\n",
            "'June 2022 - LBG Copenhagen Board Election.gslides'\n",
            " KEYMAIN.ASM.gdoc\n",
            "'KLUDGE BUDGET ESTIMATION 2K18.docx'\n",
            "'KLUDGE BUDGET ESTIMATION 2K18.docx.gdoc'\n",
            " laser_notes.pdf\n",
            " Laser_notes.pdf\n",
            " layout.xlsx\n",
            " layout.xlsx.gsheet\n",
            "'List of anime!!!.gdoc'\n",
            "'Logic as Algebra.gslides'\n",
            "'LOGIC EXPLAINED NETWORKS.gslides'\n",
            "'Math points sheet.gsheet'\n",
            " modphys1.pdf\n",
            " modphys2.pdf\n",
            " MThesis\n",
            " NaiveBayes_30%.pkl\n",
            "'National Recommended Water Quality Criteria - Aquatic Life Criteria Table | Water Quality Criteria | US EPA'\n",
            " pathfinder.gdoc\n",
            " pca.pkl\n",
            "'Planning for Swarm Robotics.gslides'\n",
            " Plot_corpus.pkl\n",
            " PROGMATMULT.gdoc\n",
            "'Project group - autonomous driving'\n",
            "'Project Mela.gslides'\n",
            "'Project Review 2 (1).gslides'\n",
            "'Project Review 2.gslides'\n",
            "'Project Review 5.gslides'\n",
            "'Project Review 5.pptx'\n",
            "'Revised Time Table as on 29th July for Odd Semester 2017.gdoc'\n",
            " s76fg978fds6g3.gdoc\n",
            " Screenshot_20220908-113732170.jpg\n",
            " Screenshot_20221004-144618894.jpg\n",
            "'Seminar PPT (1).gslides'\n",
            "'Seminar PPT.gslides'\n",
            " shoch_waves.pdf\n",
            "'Sine (1).v.gdoc'\n",
            "'Sine (2).v.gdoc'\n",
            " Sine.v.gdoc\n",
            "'Source Code.gdoc'\n",
            " supcond.pdf\n",
            " Synthesis.gdoc\n",
            " Synthesis.pdf\n",
            " Test.py\n",
            "'Water Quality Parameters'\n",
            "'Water resources - Wikipedia, the free encyclopedia'\n",
            " WebScrapper.exe\n",
            "'WinIdea Automation.gslides'\n",
            "'yali and sis'\n",
            " y_values.pkl\n"
          ]
        }
      ]
    },
    {
      "cell_type": "code",
      "source": [
        "drive_path = 'drive/My Drive/MThesis/pytorch-neat-master'"
      ],
      "metadata": {
        "id": "bMn0zIcb2-AK"
      },
      "execution_count": 3,
      "outputs": []
    },
    {
      "cell_type": "code",
      "source": [
        "%cd 'drive/My Drive/MThesis/pytorch-neat-master'"
      ],
      "metadata": {
        "colab": {
          "base_uri": "https://localhost:8080/"
        },
        "id": "YmpNF9vL3xK1",
        "outputId": "88b0af04-477e-4262-8624-2e074d731706"
      },
      "execution_count": 4,
      "outputs": [
        {
          "output_type": "stream",
          "name": "stdout",
          "text": [
            "/content/drive/My Drive/MThesis/pytorch-neat-master\n"
          ]
        }
      ]
    },
    {
      "cell_type": "code",
      "source": [
        "!pwd"
      ],
      "metadata": {
        "colab": {
          "base_uri": "https://localhost:8080/"
        },
        "id": "T-qxFb2D4oOm",
        "outputId": "60d57680-1ecc-4b5f-c3b3-9b40fbee6b59"
      },
      "execution_count": 5,
      "outputs": [
        {
          "output_type": "stream",
          "name": "stdout",
          "text": [
            "/content/drive/My Drive/MThesis/pytorch-neat-master\n"
          ]
        }
      ]
    },
    {
      "cell_type": "code",
      "source": [
        "!python setup.py install"
      ],
      "metadata": {
        "colab": {
          "base_uri": "https://localhost:8080/"
        },
        "id": "QFzOZsIC3fKE",
        "outputId": "6399797e-4c57-4a30-8278-c48efa0b0da7"
      },
      "execution_count": 6,
      "outputs": [
        {
          "output_type": "stream",
          "name": "stdout",
          "text": [
            "running install\n",
            "running bdist_egg\n",
            "running egg_info\n",
            "writing pytorch_neat.egg-info/PKG-INFO\n",
            "writing dependency_links to pytorch_neat.egg-info/dependency_links.txt\n",
            "writing top-level names to pytorch_neat.egg-info/top_level.txt\n",
            "reading manifest file 'pytorch_neat.egg-info/SOURCES.txt'\n",
            "adding license file 'LICENSE'\n",
            "writing manifest file 'pytorch_neat.egg-info/SOURCES.txt'\n",
            "installing library code to build/bdist.linux-x86_64/egg\n",
            "running install_lib\n",
            "running build_py\n",
            "creating build/bdist.linux-x86_64/egg\n",
            "creating build/bdist.linux-x86_64/egg/neat\n",
            "copying build/lib/neat/activations.py -> build/bdist.linux-x86_64/egg/neat\n",
            "copying build/lib/neat/species.py -> build/bdist.linux-x86_64/egg/neat\n",
            "copying build/lib/neat/population.py -> build/bdist.linux-x86_64/egg/neat\n",
            "copying build/lib/neat/mutation.py -> build/bdist.linux-x86_64/egg/neat\n",
            "copying build/lib/neat/visualize.py -> build/bdist.linux-x86_64/egg/neat\n",
            "copying build/lib/neat/__init__.py -> build/bdist.linux-x86_64/egg/neat\n",
            "copying build/lib/neat/utils.py -> build/bdist.linux-x86_64/egg/neat\n",
            "copying build/lib/neat/crossover.py -> build/bdist.linux-x86_64/egg/neat\n",
            "byte-compiling build/bdist.linux-x86_64/egg/neat/activations.py to activations.cpython-37.pyc\n",
            "byte-compiling build/bdist.linux-x86_64/egg/neat/species.py to species.cpython-37.pyc\n",
            "byte-compiling build/bdist.linux-x86_64/egg/neat/population.py to population.cpython-37.pyc\n",
            "byte-compiling build/bdist.linux-x86_64/egg/neat/mutation.py to mutation.cpython-37.pyc\n",
            "byte-compiling build/bdist.linux-x86_64/egg/neat/visualize.py to visualize.cpython-37.pyc\n",
            "byte-compiling build/bdist.linux-x86_64/egg/neat/__init__.py to __init__.cpython-37.pyc\n",
            "byte-compiling build/bdist.linux-x86_64/egg/neat/utils.py to utils.cpython-37.pyc\n",
            "byte-compiling build/bdist.linux-x86_64/egg/neat/crossover.py to crossover.cpython-37.pyc\n",
            "creating build/bdist.linux-x86_64/egg/EGG-INFO\n",
            "copying pytorch_neat.egg-info/PKG-INFO -> build/bdist.linux-x86_64/egg/EGG-INFO\n",
            "copying pytorch_neat.egg-info/SOURCES.txt -> build/bdist.linux-x86_64/egg/EGG-INFO\n",
            "copying pytorch_neat.egg-info/dependency_links.txt -> build/bdist.linux-x86_64/egg/EGG-INFO\n",
            "copying pytorch_neat.egg-info/top_level.txt -> build/bdist.linux-x86_64/egg/EGG-INFO\n",
            "zip_safe flag not set; analyzing archive contents...\n",
            "creating 'dist/pytorch_neat-0.0.1-py3.7.egg' and adding 'build/bdist.linux-x86_64/egg' to it\n",
            "removing 'build/bdist.linux-x86_64/egg' (and everything under it)\n",
            "Processing pytorch_neat-0.0.1-py3.7.egg\n",
            "Copying pytorch_neat-0.0.1-py3.7.egg to /usr/local/lib/python3.7/dist-packages\n",
            "Adding pytorch-neat 0.0.1 to easy-install.pth file\n",
            "\n",
            "Installed /usr/local/lib/python3.7/dist-packages/pytorch_neat-0.0.1-py3.7.egg\n",
            "Processing dependencies for pytorch-neat==0.0.1\n",
            "Finished processing dependencies for pytorch-neat==0.0.1\n"
          ]
        }
      ]
    },
    {
      "cell_type": "code",
      "source": [
        "!pip install -r requirements.txt"
      ],
      "metadata": {
        "colab": {
          "base_uri": "https://localhost:8080/"
        },
        "id": "s9l3arQD4zEM",
        "outputId": "1cae0166-f7c4-499f-9728-94cb61cba5ec"
      },
      "execution_count": 7,
      "outputs": [
        {
          "output_type": "stream",
          "name": "stdout",
          "text": [
            "Looking in indexes: https://pypi.org/simple, https://us-python.pkg.dev/colab-wheels/public/simple/\n",
            "Collecting cloudpickle==2.0.0\n",
            "  Downloading cloudpickle-2.0.0-py3-none-any.whl (25 kB)\n",
            "Collecting graphviz==0.20\n",
            "  Downloading graphviz-0.20-py3-none-any.whl (46 kB)\n",
            "\u001b[K     |████████████████████████████████| 46 kB 4.4 MB/s \n",
            "\u001b[?25hCollecting gym==0.23.1\n",
            "  Downloading gym-0.23.1.tar.gz (626 kB)\n",
            "\u001b[K     |████████████████████████████████| 626 kB 14.1 MB/s \n",
            "\u001b[?25h  Installing build dependencies ... \u001b[?25l\u001b[?25hdone\n",
            "  Getting requirements to build wheel ... \u001b[?25l\u001b[?25hdone\n",
            "    Preparing wheel metadata ... \u001b[?25l\u001b[?25hdone\n",
            "Collecting gym-notices==0.0.6\n",
            "  Downloading gym_notices-0.0.6-py3-none-any.whl (2.7 kB)\n",
            "Requirement already satisfied: numpy==1.21.6 in /usr/local/lib/python3.7/dist-packages (from -r requirements.txt (line 5)) (1.21.6)\n",
            "Collecting pygame==2.1.2\n",
            "  Downloading pygame-2.1.2-cp37-cp37m-manylinux_2_17_x86_64.manylinux2014_x86_64.whl (21.8 MB)\n",
            "\u001b[K     |████████████████████████████████| 21.8 MB 63.0 MB/s \n",
            "\u001b[?25hRequirement already satisfied: torch==1.12.1 in /usr/local/lib/python3.7/dist-packages (from -r requirements.txt (line 7)) (1.12.1+cu113)\n",
            "Collecting tqdm==4.64.0\n",
            "  Downloading tqdm-4.64.0-py2.py3-none-any.whl (78 kB)\n",
            "\u001b[K     |████████████████████████████████| 78 kB 7.0 MB/s \n",
            "\u001b[?25hCollecting typing_extensions==4.2.0\n",
            "  Downloading typing_extensions-4.2.0-py3-none-any.whl (24 kB)\n",
            "Requirement already satisfied: importlib-metadata>=4.10.0 in /usr/local/lib/python3.7/dist-packages (from gym==0.23.1->-r requirements.txt (line 3)) (4.13.0)\n",
            "Requirement already satisfied: zipp>=0.5 in /usr/local/lib/python3.7/dist-packages (from importlib-metadata>=4.10.0->gym==0.23.1->-r requirements.txt (line 3)) (3.10.0)\n",
            "Building wheels for collected packages: gym\n",
            "  Building wheel for gym (PEP 517) ... \u001b[?25l\u001b[?25hdone\n",
            "  Created wheel for gym: filename=gym-0.23.1-py3-none-any.whl size=701374 sha256=10d077b88a91269993bbdb226b96b72a984a159a3c4bc8e45810d05587b0b078\n",
            "  Stored in directory: /root/.cache/pip/wheels/e3/33/04/6723848e46f0f1ebe794bb329b7c761c3329a0d7ffade99da7\n",
            "Successfully built gym\n",
            "Installing collected packages: typing-extensions, gym-notices, cloudpickle, tqdm, pygame, gym, graphviz\n",
            "  Attempting uninstall: typing-extensions\n",
            "    Found existing installation: typing-extensions 4.1.1\n",
            "    Uninstalling typing-extensions-4.1.1:\n",
            "      Successfully uninstalled typing-extensions-4.1.1\n",
            "  Attempting uninstall: gym-notices\n",
            "    Found existing installation: gym-notices 0.0.8\n",
            "    Uninstalling gym-notices-0.0.8:\n",
            "      Successfully uninstalled gym-notices-0.0.8\n",
            "  Attempting uninstall: cloudpickle\n",
            "    Found existing installation: cloudpickle 1.5.0\n",
            "    Uninstalling cloudpickle-1.5.0:\n",
            "      Successfully uninstalled cloudpickle-1.5.0\n",
            "  Attempting uninstall: tqdm\n",
            "    Found existing installation: tqdm 4.64.1\n",
            "    Uninstalling tqdm-4.64.1:\n",
            "      Successfully uninstalled tqdm-4.64.1\n",
            "  Attempting uninstall: gym\n",
            "    Found existing installation: gym 0.25.2\n",
            "    Uninstalling gym-0.25.2:\n",
            "      Successfully uninstalled gym-0.25.2\n",
            "  Attempting uninstall: graphviz\n",
            "    Found existing installation: graphviz 0.10.1\n",
            "    Uninstalling graphviz-0.10.1:\n",
            "      Successfully uninstalled graphviz-0.10.1\n",
            "\u001b[31mERROR: pip's dependency resolver does not currently take into account all the packages that are installed. This behaviour is the source of the following dependency conflicts.\n",
            "thinc 8.1.5 requires typing-extensions<4.2.0,>=3.7.4.1; python_version < \"3.8\", but you have typing-extensions 4.2.0 which is incompatible.\n",
            "spacy 3.4.2 requires typing-extensions<4.2.0,>=3.7.4; python_version < \"3.8\", but you have typing-extensions 4.2.0 which is incompatible.\n",
            "confection 0.0.3 requires typing-extensions<4.2.0,>=3.7.4.1; python_version < \"3.8\", but you have typing-extensions 4.2.0 which is incompatible.\u001b[0m\n",
            "Successfully installed cloudpickle-2.0.0 graphviz-0.20 gym-0.23.1 gym-notices-0.0.6 pygame-2.1.2 tqdm-4.64.0 typing-extensions-4.2.0\n"
          ]
        }
      ]
    },
    {
      "cell_type": "code",
      "source": [
        "import os\n",
        "os.environ['SDL_VIDEODRIVER']='dummy'\n",
        "\n",
        "!apt install lynx\n",
        "\n",
        "!python pole_run.py"
      ],
      "metadata": {
        "colab": {
          "base_uri": "https://localhost:8080/"
        },
        "id": "9NBuPh1z5J7X",
        "outputId": "1d6015f0-0e85-426c-ab3b-9a625c6b1883"
      },
      "execution_count": 8,
      "outputs": [
        {
          "output_type": "stream",
          "name": "stdout",
          "text": [
            "Reading package lists... Done\n",
            "Building dependency tree       \n",
            "Reading state information... Done\n",
            "The following package was automatically installed and is no longer required:\n",
            "  libnvidia-common-460\n",
            "Use 'apt autoremove' to remove it.\n",
            "The following additional packages will be installed:\n",
            "  lynx-common\n",
            "The following NEW packages will be installed:\n",
            "  lynx lynx-common\n",
            "0 upgraded, 2 newly installed, 0 to remove and 4 not upgraded.\n",
            "Need to get 1,568 kB of archives.\n",
            "After this operation, 5,485 kB of additional disk space will be used.\n",
            "Get:1 http://archive.ubuntu.com/ubuntu bionic/universe amd64 lynx-common all 2.8.9dev16-3 [940 kB]\n",
            "Get:2 http://archive.ubuntu.com/ubuntu bionic/universe amd64 lynx amd64 2.8.9dev16-3 [628 kB]\n",
            "Fetched 1,568 kB in 1s (2,403 kB/s)\n",
            "Selecting previously unselected package lynx-common.\n",
            "(Reading database ... 123942 files and directories currently installed.)\n",
            "Preparing to unpack .../lynx-common_2.8.9dev16-3_all.deb ...\n",
            "Unpacking lynx-common (2.8.9dev16-3) ...\n",
            "Selecting previously unselected package lynx.\n",
            "Preparing to unpack .../lynx_2.8.9dev16-3_amd64.deb ...\n",
            "Unpacking lynx (2.8.9dev16-3) ...\n",
            "Setting up lynx-common (2.8.9dev16-3) ...\n",
            "Setting up lynx (2.8.9dev16-3) ...\n",
            "update-alternatives: using /usr/bin/lynx to provide /usr/bin/www-browser (www-browser) in auto mode\n",
            "Processing triggers for man-db (2.8.3-2ubuntu0.1) ...\n",
            "Processing triggers for mime-support (3.60ubuntu1) ...\n",
            "2022-11-03 12:09:52,881 [MainThread  ] [_tools    ] [DEBUG]  deprecate positional args: graphviz.backend.piping.pipe(['renderer', 'formatter', 'neato_no_op', 'quiet'])\n",
            "2022-11-03 12:09:52,882 [MainThread  ] [_tools    ] [DEBUG]  deprecate positional args: graphviz.backend.rendering.render(['renderer', 'formatter', 'neato_no_op', 'quiet'])\n",
            "2022-11-03 12:09:52,882 [MainThread  ] [_tools    ] [DEBUG]  deprecate positional args: graphviz.backend.unflattening.unflatten(['stagger', 'fanout', 'chain', 'encoding'])\n",
            "2022-11-03 12:09:52,883 [MainThread  ] [_tools    ] [DEBUG]  deprecate positional args: graphviz.backend.viewing.view(['quiet'])\n",
            "2022-11-03 12:09:52,885 [MainThread  ] [_tools    ] [DEBUG]  deprecate positional args: graphviz.quoting.quote(['is_html_string', 'is_valid_id', 'dot_keywords', 'endswith_odd_number_of_backslashes', 'escape_unescaped_quotes'])\n",
            "2022-11-03 12:09:52,885 [MainThread  ] [_tools    ] [DEBUG]  deprecate positional args: graphviz.quoting.a_list(['kwargs', 'attributes'])\n",
            "2022-11-03 12:09:52,885 [MainThread  ] [_tools    ] [DEBUG]  deprecate positional args: graphviz.quoting.attr_list(['kwargs', 'attributes'])\n",
            "2022-11-03 12:09:52,885 [MainThread  ] [_tools    ] [DEBUG]  deprecate positional args: graphviz.dot.Dot.clear(['keep_attrs'])\n",
            "2022-11-03 12:09:52,885 [MainThread  ] [_tools    ] [DEBUG]  deprecate positional args: graphviz.dot.Dot.__iter__(['subgraph'])\n",
            "2022-11-03 12:09:52,885 [MainThread  ] [_tools    ] [DEBUG]  deprecate positional args: graphviz.dot.Dot.node(['_attributes'])\n",
            "2022-11-03 12:09:52,886 [MainThread  ] [_tools    ] [DEBUG]  deprecate positional args: graphviz.dot.Dot.edge(['_attributes'])\n",
            "2022-11-03 12:09:52,886 [MainThread  ] [_tools    ] [DEBUG]  deprecate positional args: graphviz.dot.Dot.attr(['_attributes'])\n",
            "2022-11-03 12:09:52,886 [MainThread  ] [_tools    ] [DEBUG]  deprecate positional args: graphviz.dot.Dot.subgraph(['name', 'comment', 'graph_attr', 'node_attr', 'edge_attr', 'body'])\n",
            "2022-11-03 12:09:52,886 [MainThread  ] [_tools    ] [DEBUG]  deprecate positional args: graphviz.piping.Pipe._pipe_legacy(['renderer', 'formatter', 'neato_no_op', 'quiet'])\n",
            "2022-11-03 12:09:52,887 [MainThread  ] [_tools    ] [DEBUG]  deprecate positional args: graphviz.saving.Save.save(['directory'])\n",
            "2022-11-03 12:09:52,888 [MainThread  ] [_tools    ] [DEBUG]  deprecate positional args: graphviz.rendering.Render.render(['directory', 'view', 'cleanup', 'format', 'renderer', 'formatter', 'neato_no_op', 'quiet', 'quiet_view'])\n",
            "2022-11-03 12:09:52,888 [MainThread  ] [_tools    ] [DEBUG]  deprecate positional args: graphviz.rendering.Render.view(['directory', 'cleanup', 'quiet', 'quiet_view'])\n",
            "2022-11-03 12:09:52,888 [MainThread  ] [_tools    ] [DEBUG]  deprecate positional args: graphviz.unflattening.Unflatten.unflatten(['stagger', 'fanout', 'chain'])\n",
            "2022-11-03 12:09:52,888 [MainThread  ] [_tools    ] [DEBUG]  deprecate positional args: graphviz.graphs.BaseGraph.__init__(['comment', 'filename', 'directory', 'format', 'engine', 'encoding', 'graph_attr', 'node_attr', 'edge_attr', 'body', 'strict'])\n",
            "2022-11-03 12:09:52,889 [MainThread  ] [_tools    ] [DEBUG]  deprecate positional args: graphviz.sources.Source.from_file(['directory', 'format', 'engine', 'encoding', 'renderer', 'formatter'])\n",
            "2022-11-03 12:09:52,889 [MainThread  ] [_tools    ] [DEBUG]  deprecate positional args: graphviz.sources.Source.__init__(['filename', 'directory', 'format', 'engine', 'encoding'])\n",
            "2022-11-03 12:09:52,889 [MainThread  ] [_tools    ] [DEBUG]  deprecate positional args: graphviz.sources.Source.save(['directory'])\n",
            "2022-11-03 12:09:52,889 [MainThread  ] [pole_run  ] [INFO ]  cuda:0\n",
            "2022-11-03 12:10:01,026 [MainThread  ] [population] [INFO ]  Finished Generation 1\n",
            "2022-11-03 12:10:01,026 [MainThread  ] [population] [INFO ]  Best Genome Fitness: 180.0\n",
            "2022-11-03 12:10:01,026 [MainThread  ] [population] [INFO ]  Best Genome Length 5\n",
            "\n",
            "2022-11-03 12:10:40,576 [MainThread  ] [pole_run  ] [INFO ]  Found a Solution\n",
            "2022-11-03 12:10:40,577 [MainThread  ] [_tools    ] [DEBUG]  os.makedirs('./images')\n",
            "2022-11-03 12:10:40,577 [MainThread  ] [saving    ] [DEBUG]  write lines to './images/pole-balancing-solution'\n",
            "2022-11-03 12:10:40,829 [MainThread  ] [execute   ] [DEBUG]  run [PosixPath('dot'), '-Kdot', '-Tpng', '-O', 'pole-balancing-solution']\n",
            "2022-11-03 12:10:41,267 [MainThread  ] [viewing   ] [DEBUG]  view: ['xdg-open', 'images/pole-balancing-solution.png']\n",
            "Error: no \"view\" mailcap rules found for type \"image/png\"\n",
            "\u001b[33m\u001b[44m\u001b[1mimage/png D)ownload, or C)ancel                                                \u001b[22;32H\u001b[m\u001b[mpole_run.py:32: UserWarning: Creating a tensor from a list of numpy.ndarrays is extremely slow. Please consider converting the list to a single numpy.ndarray with numpy.array() before converting to a tensor. (Triggered internally at  ../torch/csrc/utils/tensor_new.cpp:201.)\n",
            "  input = torch.Tensor([observation]).to(c.PoleBalanceConfig.DEVICE)\n",
            "\n",
            "\n",
            "\u001b[?1l\u001b>\n",
            "\n",
            "Exiting via interrupt: 2\n",
            "\n",
            "Traceback (most recent call last):\n",
            "  File \"pole_run.py\", line 31, in <module>\n",
            "    env.render()\n",
            "  File \"/usr/local/lib/python3.7/dist-packages/gym/core.py\", line 286, in render\n",
            "    return self.env.render(mode, **kwargs)\n",
            "  File \"/usr/local/lib/python3.7/dist-packages/gym/core.py\", line 286, in render\n",
            "    return self.env.render(mode, **kwargs)\n",
            "  File \"/usr/local/lib/python3.7/dist-packages/gym/envs/classic_control/cartpole.py\", line 260, in render\n",
            "    self.clock.tick(self.metadata[\"render_fps\"])\n",
            "KeyboardInterrupt\n",
            "^C\n"
          ]
        }
      ]
    },
    {
      "cell_type": "code",
      "source": [],
      "metadata": {
        "id": "0HgwyCt-6quF"
      },
      "execution_count": 8,
      "outputs": []
    }
  ]
}